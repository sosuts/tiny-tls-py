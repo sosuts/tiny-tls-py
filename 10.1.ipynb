{
 "cells": [
  {
   "cell_type": "code",
   "execution_count": 22,
   "id": "f3b95724",
   "metadata": {},
   "outputs": [],
   "source": [
    "# List 10.1\n",
    "from cryptography.fernet import Fernet\n",
    "\n",
    "key = Fernet.generate_key()\n",
    "f = Fernet(key)\n",
    "token = f.encrypt(b\"my deep dark secret\")\n",
    "assert f.decrypt(token) == b\"my deep dark secret\""
   ]
  },
  {
   "cell_type": "code",
   "execution_count": 42,
   "id": "ffcbe04c",
   "metadata": {},
   "outputs": [],
   "source": [
    "# List 10.2\n",
    "from cryptography.hazmat.primitives import hashes, serialization\n",
    "from cryptography.hazmat.primitives.asymmetric import rsa\n",
    "\n",
    "# 秘密鍵の生成\n",
    "private_key = rsa.generate_private_key(\n",
    "    public_exponent=65537,\n",
    "    key_size=4096,\n",
    ")\n",
    "\n",
    "# 公開鍵の取得\n",
    "public_key = private_key.public_key()"
   ]
  },
  {
   "cell_type": "code",
   "execution_count": 49,
   "id": "812baa69",
   "metadata": {},
   "outputs": [
    {
     "data": {
      "text/plain": [
       "'f1b91fef6a7535a974d3644c3eac16d2c907720c981290214d5d1db7cdb724af'"
      ]
     },
     "execution_count": 49,
     "metadata": {},
     "output_type": "execute_result"
    }
   ],
   "source": [
    "# List 10.3\n",
    "from cryptography.hazmat.primitives import hashes, serialization\n",
    "\n",
    "hash = hashes.Hash(hashes.SHA256())\n",
    "hash.update(b\"my deep dark secret\")\n",
    "hash.finalize().hex()"
   ]
  },
  {
   "cell_type": "code",
   "execution_count": 56,
   "id": "d413c258",
   "metadata": {},
   "outputs": [
    {
     "data": {
      "text/plain": [
       "'2651c6c5090d698b5864f198c89aab3750e608bf201f12b6a8bc77768f572f9931ccdef5c7a5bc221d3e767e5037d25f631ce67af6bbdd57098641af249cb31418aad060f6795992554b9d7abcfd7de63f2eb704964ce7ba921378403e8c57083a1be0d5fb17df01325ead2021b3e5d23a34ad6fe36fc2ef0d41ec22ad6a39fe64270f0032507fb3cbd0d15b4f4b48bcd5bdb7e170bee7aacfe21a9d940272da8399bcf67c68b60e9da40bbb3eeddd49e28f1100c5de99dda1bd48bea846fdc13c8e07b514c84024d56d0605a9e0d87a0ba61ced040d7f9dba87a0776effde90af3bb00f0f6aa0a46e4eae67d4ca22ab76d9c1eb977ce39e2e40000cce8653e88e0c8154795a085a8d021582b8b44d0e67a36e6d52d82a38950533d1147d70c554b30b0eb9d3de5b6e009e42d05d27df389b621e340f75d7dd7e168afeed5c305c537393e68519e43dec6015baa86c96d3f98384a8198d15e1ca8fc23af293f9e3703484fcc4c37a049ca8e5c93bf5115db1dae6ceae790b20d71b6f300ede012e9d491869230b144746df3a6a091eff92df95ddbee638632f156e2f5c2b49c9883f0f2a05823f7860f2b5abe3b72df47cd4b4269d24e2826034c376e1ef88db8d8f2b2823971af3a1b6490e978b750212f3e743fdadf172ed907466db0a52c1bdd974a8c25e72fe43c427cb94d41f71ff0957ae8633bc9c73004d34afe8b363'"
      ]
     },
     "execution_count": 56,
     "metadata": {},
     "output_type": "execute_result"
    }
   ],
   "source": [
    "# List 10.4\n",
    "from cryptography.hazmat.primitives import hashes\n",
    "from cryptography.hazmat.primitives.asymmetric import padding\n",
    "\n",
    "message = b\"A message I want to sign\"\n",
    "signature = private_key.sign(\n",
    "    message,\n",
    "    padding.PKCS1v15(),\n",
    "    hashes.SHA256()\n",
    ")\n",
    "signature.hex()"
   ]
  }
 ],
 "metadata": {
  "kernelspec": {
   "display_name": "tiny-tls-py",
   "language": "python",
   "name": "python3"
  },
  "language_info": {
   "codemirror_mode": {
    "name": "ipython",
    "version": 3
   },
   "file_extension": ".py",
   "mimetype": "text/x-python",
   "name": "python",
   "nbconvert_exporter": "python",
   "pygments_lexer": "ipython3",
   "version": "3.12.7"
  }
 },
 "nbformat": 4,
 "nbformat_minor": 5
}
